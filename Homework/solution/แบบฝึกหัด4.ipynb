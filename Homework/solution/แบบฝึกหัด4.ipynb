{
  "nbformat": 4,
  "nbformat_minor": 0,
  "metadata": {
    "colab": {
      "provenance": []
    },
    "kernelspec": {
      "name": "python3",
      "display_name": "Python 3"
    },
    "language_info": {
      "name": "python"
    }
  },
  "cells": [
    {
      "cell_type": "markdown",
      "source": [
        "# แบบฝึกหัด 4"
      ],
      "metadata": {
        "id": "U3ArbMi8JHGD"
      }
    },
    {
      "cell_type": "markdown",
      "source": [
        "---"
      ],
      "metadata": {
        "id": "t9RQYuu-JUwP"
      }
    },
    {
      "cell_type": "code",
      "source": [
        "import numpy as np\n",
        "import pandas as pd\n",
        "import statistics\n",
        "from math import perm, comb"
      ],
      "metadata": {
        "id": "5LcuhePsgM1w"
      },
      "execution_count": null,
      "outputs": []
    },
    {
      "cell_type": "markdown",
      "source": [
        "###  "
      ],
      "metadata": {
        "id": "uoKssbJRv2Xu"
      }
    },
    {
      "cell_type": "markdown",
      "source": [
        "4.1 ในงานเลี้ยงฉลองปีใหม่แห่งหนึ่งมีการจับฉลากรางวัลเป็น iPhone 14 Pro Max โดยในกล่องจับฉลากมีฉลากทั้งหมด 100 ฉลาก และมีเพียง 10 ฉลากที่จะได้ iPhone 14 Pro Max จงหาค่าดังต่อไปนี้  \n",
        "- ความน่าจะเป็นที่จะจับฉลากไม่ได้ iPhone 14 Pro เมื่อได้สิทธิ์จับฉลาก 3 ใบ (จับแบบไม่ใส่คืน)"
      ],
      "metadata": {
        "id": "ag3TNOoapF2I"
      }
    },
    {
      "cell_type": "markdown",
      "source": [
        "จับไม่ได้ iPhone 14 Pro คือจับ 3 ใบ จาก 90 ใบ ที่ไม่มีรางวัล"
      ],
      "metadata": {
        "id": "9v2y-kAAqQiT"
      }
    },
    {
      "cell_type": "code",
      "source": [
        "comb(90, 3)/comb(100, 3)"
      ],
      "metadata": {
        "colab": {
          "base_uri": "https://localhost:8080/"
        },
        "id": "sTxJEwzZqEk2",
        "outputId": "4eb5024f-4a8c-4d4f-88c7-0c890f177846"
      },
      "execution_count": null,
      "outputs": [
        {
          "output_type": "execute_result",
          "data": {
            "text/plain": [
              "0.726530612244898"
            ]
          },
          "metadata": {},
          "execution_count": 2
        }
      ]
    },
    {
      "cell_type": "markdown",
      "source": [
        "หลายคนอาจแย้งว่าสูตรที่ใช้ด้านบนคือการจับทีเดียว 3 ใบไม่ใช่จับทีละใบ  \n",
        "แต่ความน่าจะเป็นที่ได้ไม่แตกต่างจากการจับที่ละครั้งแบบไม่ใส่คืน  \n",
        "ด้านล่างนี้คือการคิดความน่าจะเป็นแบบจับทีละใบ:  \n",
        "จับไม่ได้ใบ1 \\* จับไม่ได้ใบ2 \\* จับไม่ได้ใบ3"
      ],
      "metadata": {
        "id": "HaY4RqkQdQ2F"
      }
    },
    {
      "cell_type": "code",
      "source": [
        "comb(90, 1)/comb(100, 1)*comb(89, 1)/comb(99, 1)*comb(88, 1)/comb(98, 1)"
      ],
      "metadata": {
        "colab": {
          "base_uri": "https://localhost:8080/"
        },
        "id": "at-decTpcZO8",
        "outputId": "5cd79083-9702-4f80-fbdf-f1da360259cf"
      },
      "execution_count": null,
      "outputs": [
        {
          "output_type": "execute_result",
          "data": {
            "text/plain": [
              "0.726530612244898"
            ]
          },
          "metadata": {},
          "execution_count": 6
        }
      ]
    },
    {
      "cell_type": "markdown",
      "source": [
        "- ความน่าจะเป็นที่จะจับฉลากได้ iPhone 14 Pro 1 เครื่องเมื่อได้สิทธิ์จับฉลาก 3 ใบ (จับแบบไม่ใส่คืน)"
      ],
      "metadata": {
        "id": "ED-OCCPQqCRW"
      }
    },
    {
      "cell_type": "markdown",
      "source": [
        "จับได้ 1 เครื่องคือได้ฉลากที่มีรางวัล 1 ใบ จาก 10 ใบ และ  \n",
        "ได้ฉลากที่ไม่มีรางวัลอีก 2 ใบ จาก 90 ใบ"
      ],
      "metadata": {
        "id": "uPr_mF5eoGEs"
      }
    },
    {
      "cell_type": "code",
      "source": [
        "comb(10,1)*comb(90,2) / comb(100, 3)"
      ],
      "metadata": {
        "colab": {
          "base_uri": "https://localhost:8080/"
        },
        "id": "37M99PWLpIhL",
        "outputId": "d5fb1d27-05d8-4159-9585-9446a7dc0472"
      },
      "execution_count": null,
      "outputs": [
        {
          "output_type": "execute_result",
          "data": {
            "text/plain": [
              "0.24768089053803338"
            ]
          },
          "metadata": {},
          "execution_count": 4
        }
      ]
    },
    {
      "cell_type": "markdown",
      "source": [
        "ด้านล่างนี้คือการคิดความน่าจะเป็นแบบจับทีละใบ:  \n",
        "จับได้ใบ1 \\* จับไม่ได้ใบ2 \\* จับไม่ได้ใบ3 \\*3 (เนื่องจากอาจจับได้ในครั้งที่ 1, 2 หรือ 3 ก็ได้)"
      ],
      "metadata": {
        "id": "WcfHcU4ZelFg"
      }
    },
    {
      "cell_type": "code",
      "source": [
        "comb(10, 1)/comb(100, 1) * comb(90, 1)/comb(99, 1) * comb(89, 1)/comb(98, 1) * 3 #คูณ 3 เนื่องจากอาจจับได้ในครั้งที่ 1, 2 หรือ 3 ก็ได้"
      ],
      "metadata": {
        "colab": {
          "base_uri": "https://localhost:8080/"
        },
        "outputId": "717c05b7-9bd7-4e94-9fe6-17b969b98692",
        "id": "k1cC-CfjelFo"
      },
      "execution_count": null,
      "outputs": [
        {
          "output_type": "execute_result",
          "data": {
            "text/plain": [
              "0.24768089053803344"
            ]
          },
          "metadata": {},
          "execution_count": 11
        }
      ]
    },
    {
      "cell_type": "markdown",
      "source": [
        "- ความน่าจะเป็นที่จะจับฉลากได้ iPhone 14 Pro ***อย่างน้อย*** 1 เครื่องเมื่อได้สิทธิ์จับฉลาก 3 ใบ (จับแบบไม่ใส่คืน)"
      ],
      "metadata": {
        "id": "EeXadDqerEhv"
      }
    },
    {
      "cell_type": "markdown",
      "source": [
        "ความน่าจะเป็นที่จะจับฉลากได้ iPhone 14 Pro อย่างน้อย 1 = p(ได้ 1) + p(ได้ 2) + p(ได้ 3)"
      ],
      "metadata": {
        "id": "wIkOO0b1rEhw"
      }
    },
    {
      "cell_type": "code",
      "source": [
        "(comb(10,1)*comb(90,2) + comb(10,2)*comb(90,1) + comb(10,3)*comb(90,0))/ comb(100, 3)"
      ],
      "metadata": {
        "colab": {
          "base_uri": "https://localhost:8080/"
        },
        "outputId": "06b23a44-1412-46ad-88ee-51bf299d4822",
        "id": "FZFD-VC6rEhw"
      },
      "execution_count": null,
      "outputs": [
        {
          "output_type": "execute_result",
          "data": {
            "text/plain": [
              "0.27346938775510204"
            ]
          },
          "metadata": {},
          "execution_count": 7
        }
      ]
    },
    {
      "cell_type": "markdown",
      "source": [
        "- หากนาย ก. ตกลงกับเพื่อนที่ไปงานเลี้ยงด้วยกันอีก 9 คนว่าหากใครจับฉลากได้ iPhone 14 Pro จะนำไปขายทอดตลาดและนำเงินมาแบ่งกัน จงความน่าจะเป็นที่จะจับฉลากได้ iPhone 14 Pro ***อย่างน้อย*** 1 เครื่องเมื่อ ทั้ง 10 คนได้สิทธิ์จับฉลากคนละใบ (จับแบบไม่ใส่คืน) หากกำหนดให้ตัวแปรสุ่ม X แทนจำนวนเครื่อง iPhone 14 ที่จับรางวัลได้ จงแสดงค่าของ X และฟังก์ชันความน่าจะเป็นของ X และหาค่า P(X≥1)"
      ],
      "metadata": {
        "id": "ccAoGUYJtDas"
      }
    },
    {
      "cell_type": "markdown",
      "source": [
        "จับฉลาก 10 ใบ สนใจการจับได้รางวัล iPhone 14 Pro  \n",
        "ดังนั้นตัวแปนสุ่ม X = {0, 1, 2, 3, 4, 5, 6, 7, 8, 9, 10}"
      ],
      "metadata": {
        "id": "K9XOHEs9tDat"
      }
    },
    {
      "cell_type": "markdown",
      "source": [
        "\\\n",
        "ฟังก์ชันความน่าจะเป็นของ X:"
      ],
      "metadata": {
        "id": "bmvqy2B_waAk"
      }
    },
    {
      "cell_type": "code",
      "source": [
        "def p(x):\n",
        "  return comb(10, x)*comb(90, 10-x)/comb(100, 10)"
      ],
      "metadata": {
        "id": "BxQvXuQAweeU"
      },
      "execution_count": null,
      "outputs": []
    },
    {
      "cell_type": "markdown",
      "source": [
        "\\\n",
        "ค่าความน่าจะเป็นที่จะจับฉลากได้ iPhone 14 Pro อย่างน้อย 1 เครื่อง, P(X≥1):  "
      ],
      "metadata": {
        "id": "9pXS-WTSxQ3J"
      }
    },
    {
      "cell_type": "code",
      "source": [
        "sum([p(x) for  x in range(1,11)])"
      ],
      "metadata": {
        "colab": {
          "base_uri": "https://localhost:8080/"
        },
        "outputId": "13e48525-d198-40a5-a7ba-0717635b4c7d",
        "id": "Suezb_PLtDat"
      },
      "execution_count": null,
      "outputs": [
        {
          "output_type": "execute_result",
          "data": {
            "text/plain": [
              "0.6695237889132748"
            ]
          },
          "metadata": {},
          "execution_count": 17
        }
      ]
    },
    {
      "cell_type": "markdown",
      "source": [
        "\\\n",
        "หรือ อีกวิธีหนึ่ง  \n",
        "เนื่องจาก P(X≥1) = 1-P(X=0) ซึ่งมีค่า"
      ],
      "metadata": {
        "id": "afE4cf3xybRk"
      }
    },
    {
      "cell_type": "code",
      "source": [
        "1-p(0)"
      ],
      "metadata": {
        "colab": {
          "base_uri": "https://localhost:8080/"
        },
        "id": "61v1TC51yvzF",
        "outputId": "51bb7eb9-810b-4c1d-95a2-0e34a3b9b887"
      },
      "execution_count": null,
      "outputs": [
        {
          "output_type": "execute_result",
          "data": {
            "text/plain": [
              "0.6695237889132748"
            ]
          },
          "metadata": {},
          "execution_count": 18
        }
      ]
    },
    {
      "cell_type": "markdown",
      "source": [
        "###  "
      ],
      "metadata": {
        "id": "sko5rsVdz7YZ"
      }
    },
    {
      "cell_type": "markdown",
      "source": [
        "4.2 กล่องใบที่หนึ่งมีลูกบอล 10 ลูก  \n",
        "เป็นสีขาว 5 ลูก สีแดง 3 ลูก และสีน้ำเงิน 2 ลูก   \n",
        "กล่องใบที่สองมีลูกบอล 15 ลูก  \n",
        "เป็นสีขาว 8 ลูก สีแดง 5 ลูก และสีน้ำเงิน 2 ลูก  \n",
        "ถ้าสุ่มหยิบลูกบอล 1 ลูกจาก\n",
        "แต่ละกล่อง จงหาความน่าจะเป็นที่จะได้ลูกบอลสีเดียวกัน"
      ],
      "metadata": {
        "id": "O-jANK7-JY2X"
      }
    },
    {
      "cell_type": "markdown",
      "source": [
        "\\\n",
        "จำนวนเหตุการณ์ได้บอลสีเดียวกัน:"
      ],
      "metadata": {
        "id": "bVNlaZjmZZZn"
      }
    },
    {
      "cell_type": "code",
      "execution_count": null,
      "metadata": {
        "colab": {
          "base_uri": "https://localhost:8080/"
        },
        "id": "HVfgMVlcI_hm",
        "outputId": "ecbf3790-8eb7-4a8d-fefc-c3247acf2125"
      },
      "outputs": [
        {
          "output_type": "execute_result",
          "data": {
            "text/plain": [
              "59"
            ]
          },
          "metadata": {},
          "execution_count": 4
        }
      ],
      "source": [
        "#ขาว 2 ลูก + แดง 2 ลูก + น้ำเงิน 2 ลูก\n",
        "comb(5,1)*comb(8,1) + comb(3,1)*comb(5,1) + comb(2,1)*comb(2,1)"
      ]
    },
    {
      "cell_type": "markdown",
      "source": [
        "\\\n",
        "จำนวนเหตุการณ์ที่เป็นไปได้ทั้งหมด:"
      ],
      "metadata": {
        "id": "1Bov9AMxZgzj"
      }
    },
    {
      "cell_type": "code",
      "source": [
        "comb(10,1)*comb(15,1)"
      ],
      "metadata": {
        "colab": {
          "base_uri": "https://localhost:8080/"
        },
        "id": "ZOrjFGRyZr0S",
        "outputId": "e7202b9c-18b2-4fec-d5b3-1a3dc126205c"
      },
      "execution_count": null,
      "outputs": [
        {
          "output_type": "execute_result",
          "data": {
            "text/plain": [
              "150"
            ]
          },
          "metadata": {},
          "execution_count": 5
        }
      ]
    },
    {
      "cell_type": "markdown",
      "source": [
        "\\\n",
        "ความน่าจะเป็นที่จะได้ลูกบอลสีเดียวกัน:"
      ],
      "metadata": {
        "id": "4IQvEcLaZ6Dr"
      }
    },
    {
      "cell_type": "code",
      "source": [
        "(comb(5,1)*comb(8,1) + comb(3,1)*comb(5,1) + comb(2,1)*comb(2,1)) / (comb(10,1)*comb(15,1))"
      ],
      "metadata": {
        "colab": {
          "base_uri": "https://localhost:8080/"
        },
        "id": "DFRE62VOZrrx",
        "outputId": "49c5636f-00bf-4f8a-cb2d-c2bf6c507d23"
      },
      "execution_count": null,
      "outputs": [
        {
          "output_type": "execute_result",
          "data": {
            "text/plain": [
              "0.3933333333333333"
            ]
          },
          "metadata": {},
          "execution_count": 7
        }
      ]
    },
    {
      "cell_type": "markdown",
      "source": [
        "###  "
      ],
      "metadata": {
        "id": "oCLmBTL-0RLG"
      }
    },
    {
      "cell_type": "markdown",
      "source": [
        "4.3 ตู้กาชาปองตู้หนึ่งมีฟิกเกอร์รูปสุนัข 2 ชิ้น และฟิกเกอร์รูปแมว 2 ชิ้น หากนางสาว มิคาสะ ทำการหยอดเหรียญและหมุนกาชาปองสามครั้งโดยแต่ละครั้งจะได้ฟิกเกอร์ 1 ชิ้นแบบสุ่ม โดยนางสาวมิคาสะสนใจการได้ฟิกเกอร์รูปแมว จงแสดงค่าของตัวแปรสุ่ม X ที่สนใจและฟังก์ชันความน่าจะเป็นของ X พร้อมทั้งหาค่าความน่าจะเป็นที่นางสาวมิคาสะจะได้ฟิกเกอร์แมวอย่างน้อย 1 ชิ้น, P(X≥1)"
      ],
      "metadata": {
        "id": "QYuXplcT0RLH"
      }
    },
    {
      "cell_type": "markdown",
      "source": [
        "ฟิกเกอร์ในตู้กาชาปองมีทั้งหมด 4 ชิ้น ดังนั้นหากหมุน 3 ครั้งจะต้องได้ฟิกเกอร์แมวอย่างน้อย 1 ชิ้น และจะได้ฟิกเกอร์แมวมากสุด 2 ชิ้น    \n",
        "X = {1,2}"
      ],
      "metadata": {
        "id": "kFieVMhKE6j6"
      }
    },
    {
      "cell_type": "markdown",
      "source": [
        "\\\n",
        "ฟังก์ชันความน่าจะเป็นของ X:  "
      ],
      "metadata": {
        "id": "Hdq9mqxFGc89"
      }
    },
    {
      "cell_type": "code",
      "source": [
        "def p(x):\n",
        "  return comb(2, x)*comb(2, 3-x)/comb(4, 3)"
      ],
      "metadata": {
        "id": "_MHguhj-Go-W"
      },
      "execution_count": null,
      "outputs": []
    },
    {
      "cell_type": "markdown",
      "source": [
        "\\\n",
        "ค่า P(X≥1): ความจริงข้อนี้รู้คำตอบอยู่แล้วว่าได้ 1 เพราะการหมุน 3 ครั้งจะต้องได้ฟิกเกอร์แมวอย่างน้อย 1 ครั้งเสมอ"
      ],
      "metadata": {
        "id": "ro8FfiO-HOb0"
      }
    },
    {
      "cell_type": "code",
      "source": [
        "sum([p(x) for x in [1,2]])"
      ],
      "metadata": {
        "colab": {
          "base_uri": "https://localhost:8080/"
        },
        "id": "qlCBRv4C0Sa_",
        "outputId": "0ff62473-7180-4d16-c076-2c2cd7b9aa75"
      },
      "execution_count": null,
      "outputs": [
        {
          "output_type": "execute_result",
          "data": {
            "text/plain": [
              "1.0"
            ]
          },
          "metadata": {},
          "execution_count": 23
        }
      ]
    },
    {
      "cell_type": "markdown",
      "source": [
        "###  "
      ],
      "metadata": {
        "id": "bxFNNm7ehIX8"
      }
    },
    {
      "cell_type": "markdown",
      "source": [
        "4.4 บ่อนการพนันแห่งหนึ่งใช้เหรียญซึ่งถูกถ่วงน้ำหนัก โดยโอกาสที่เหรียญจะออกหัวเป็น 2 เท่าของโอกาสที่จะออกก้อย  \n",
        "ถ้าเหรียญขึ้นหัวเขาจะสุ่มเลข 1 ถึง 9 มา 1 หมายเลข  \n",
        "ถ้าเหรียญขึ้นก้อยเขาจะสุ่มเลข 1 ถึง 5 มา 1 หมายเลข  \n",
        "จงหาความน่าจะเป็นที่จะได้หมายเลขคู่ในการโยนเหรียญแต่ละครั้ง"
      ],
      "metadata": {
        "id": "hKMe2agshIX8"
      }
    },
    {
      "cell_type": "markdown",
      "source": [
        "\\\n",
        "ความน่าจะเป็นที่เหรียญออกหัวและได้เลขคู่:"
      ],
      "metadata": {
        "id": "n9e9vqGThIX8"
      }
    },
    {
      "cell_type": "code",
      "source": [
        "(2/3)*comb(4,1)/comb(9,1)"
      ],
      "metadata": {
        "colab": {
          "base_uri": "https://localhost:8080/"
        },
        "id": "91TMtRncYdI_",
        "outputId": "ad78e449-a472-4186-ea7f-9909351d778d"
      },
      "execution_count": null,
      "outputs": [
        {
          "output_type": "execute_result",
          "data": {
            "text/plain": [
              "0.2962962962962963"
            ]
          },
          "metadata": {},
          "execution_count": 10
        }
      ]
    },
    {
      "cell_type": "markdown",
      "source": [
        "\\\n",
        "ความน่าจะเป็นที่เหรียญออกก้อยและได้เลขคู่:"
      ],
      "metadata": {
        "id": "Cso9STkJoAtl"
      }
    },
    {
      "cell_type": "code",
      "source": [
        "(1/3)*comb(2,1)/comb(5,1)"
      ],
      "metadata": {
        "colab": {
          "base_uri": "https://localhost:8080/"
        },
        "id": "EZTSiTsBkIOs",
        "outputId": "f4e22bd3-2e24-4918-ebe9-0a694a682c63"
      },
      "execution_count": null,
      "outputs": [
        {
          "output_type": "execute_result",
          "data": {
            "text/plain": [
              "0.13333333333333333"
            ]
          },
          "metadata": {},
          "execution_count": 4
        }
      ]
    },
    {
      "cell_type": "markdown",
      "source": [
        "\\\n",
        "ดังนั้นความน่าจะเป็นที่จะได้เลขคู่:"
      ],
      "metadata": {
        "id": "AR1-jQNqoKOj"
      }
    },
    {
      "cell_type": "code",
      "source": [
        "(2/3)*comb(4,1)/comb(9,1)+(1/3)*comb(2,1)/comb(5,1)"
      ],
      "metadata": {
        "colab": {
          "base_uri": "https://localhost:8080/"
        },
        "id": "DNkoH_nkkKyN",
        "outputId": "399faad8-4cbf-4b42-bcc0-cb79d713e560"
      },
      "execution_count": null,
      "outputs": [
        {
          "output_type": "execute_result",
          "data": {
            "text/plain": [
              "0.4296296296296296"
            ]
          },
          "metadata": {},
          "execution_count": 11
        }
      ]
    },
    {
      "cell_type": "markdown",
      "source": [
        "###  "
      ],
      "metadata": {
        "id": "spxd7pSGIBBz"
      }
    },
    {
      "cell_type": "markdown",
      "source": [
        "4.5 ในการแข่งรถ Grand Prix รายการหนึ่ง มีรถเข้าร่วมแข่งขัน 9 คัน โดยทางบริษัท Tesle ได้ส่งรถเข้าร่วมแข่งขัน 4 คัน จงหา  \n",
        "- จำนวนวิธีทั้งหมดที่รถจะเข้าเส้นชัยในอันดับที่ 1, 2 ***และ*** 3  \n",
        "- ความน่าจะเป็นที่รถของทางบริษัท Tesle จะเข้าเส้นชัยในอันดับที่ 1, 2 ***และ*** 3"
      ],
      "metadata": {
        "id": "6JFJ4n80IBB0"
      }
    },
    {
      "cell_type": "markdown",
      "source": [
        "\\\n",
        "จำนวนวิธีทั้งหมดที่รถจะเข้าเส้นชัยในอันดับที่ 1, 2 และ 3:"
      ],
      "metadata": {
        "id": "aPtOvBWPPOCB"
      }
    },
    {
      "cell_type": "code",
      "source": [
        "perm(9,3)"
      ],
      "metadata": {
        "colab": {
          "base_uri": "https://localhost:8080/"
        },
        "id": "KCakRgF8PO5A",
        "outputId": "01440e87-a698-4637-f6cc-4e0b91599eb7"
      },
      "execution_count": null,
      "outputs": [
        {
          "output_type": "execute_result",
          "data": {
            "text/plain": [
              "504"
            ]
          },
          "metadata": {},
          "execution_count": 24
        }
      ]
    },
    {
      "cell_type": "markdown",
      "source": [
        "\\\n",
        "ความน่าจะเป็นที่รถของทางบริษัท Tesle จะเข้าเส้นชัยในอันดับที่ 1, 2 และ 3:"
      ],
      "metadata": {
        "id": "SW556OQfScOK"
      }
    },
    {
      "cell_type": "code",
      "source": [
        "perm(4,3) / perm(9,3)"
      ],
      "metadata": {
        "colab": {
          "base_uri": "https://localhost:8080/"
        },
        "id": "N2KcukkHPPp_",
        "outputId": "4f5cb160-8aff-4910-9ab1-2c248aa9df3e"
      },
      "execution_count": null,
      "outputs": [
        {
          "output_type": "execute_result",
          "data": {
            "text/plain": [
              "0.047619047619047616"
            ]
          },
          "metadata": {},
          "execution_count": 26
        }
      ]
    },
    {
      "cell_type": "markdown",
      "source": [
        "###  "
      ],
      "metadata": {
        "id": "APRhD42HT6nZ"
      }
    },
    {
      "cell_type": "markdown",
      "source": [
        "4.6  จากการสำรวจสภาพการมีงานทำของบัณฑิตจบใหม่คณะ ก. และ ข.\n",
        "จำนวน 80 คน ได้ข้อมูลดังตาราง"
      ],
      "metadata": {
        "id": "1hLf3dc8T6na"
      }
    },
    {
      "cell_type": "markdown",
      "source": [
        "|คณะ|มีงานทำ|ว่างงาน|\n",
        "|---|------|------|\n",
        "|ก.|40|20|\n",
        "|ข.|13|7|"
      ],
      "metadata": {
        "id": "Jeg5_4r2T4HI"
      }
    },
    {
      "cell_type": "markdown",
      "source": [
        "เมื่อสุ่มมา 1 คน จงหาค่าความน่าจะเป็นดังต่อไปนี้"
      ],
      "metadata": {
        "id": "QmolidrBVv5v"
      }
    },
    {
      "cell_type": "markdown",
      "source": [
        "- จบคณะ ก. และว่างงาน"
      ],
      "metadata": {
        "id": "Ye1nvhe5WJNA"
      }
    },
    {
      "cell_type": "markdown",
      "source": [
        "- มีงานทำ"
      ],
      "metadata": {
        "id": "5I32Th6fWTOF"
      }
    },
    {
      "cell_type": "markdown",
      "source": [
        "- จบคณะ ข. และมีงานทำ"
      ],
      "metadata": {
        "id": "1cAq6LNvWTq4"
      }
    },
    {
      "cell_type": "markdown",
      "source": [
        "- จบคณะ ข. ถ้าทราบว่าเขามีงานทำ"
      ],
      "metadata": {
        "id": "qriQlqXZWUV0"
      }
    },
    {
      "cell_type": "markdown",
      "source": [
        "- ว่างงาน ถ้าทราบว่าจบจากคณะ ก."
      ],
      "metadata": {
        "id": "cCWWZpQUWUJT"
      }
    },
    {
      "cell_type": "markdown",
      "source": [
        "กำหนดให้ A แทนเหตุการณ์จบคณะ ก.  \n",
        "กำหนดให้ B แทนเหตุการณ์จบคณะ ข.  \n",
        "กำหนดให้ J แทนเหตุการณ์มีงานทำ  \n",
        "กำหนดให้ NJ แทนเหตุการณ์ว่างงาน"
      ],
      "metadata": {
        "id": "q902qIytW0Nr"
      }
    },
    {
      "cell_type": "markdown",
      "source": [
        "\\\n",
        "จบคณะ ก. และว่างงาน:"
      ],
      "metadata": {
        "id": "Lw5-XIx8X063"
      }
    },
    {
      "cell_type": "markdown",
      "source": [
        "หาค่า P(A ∩ NJ) ซึ่งจะมีค่าเท่ากับ P(A|NJ)*P(NJ)"
      ],
      "metadata": {
        "id": "xiBgY3HqX6OA"
      }
    },
    {
      "cell_type": "code",
      "source": [
        "(20/(20+7))*((20+7)/80)"
      ],
      "metadata": {
        "colab": {
          "base_uri": "https://localhost:8080/"
        },
        "id": "3M9hRWIiVvUX",
        "outputId": "bfbc80c2-8af9-4a1f-abb7-6e6ffe92af53"
      },
      "execution_count": null,
      "outputs": [
        {
          "output_type": "execute_result",
          "data": {
            "text/plain": [
              "0.25"
            ]
          },
          "metadata": {},
          "execution_count": 29
        }
      ]
    },
    {
      "cell_type": "markdown",
      "source": [
        "\\\n",
        "มีงานทำ:"
      ],
      "metadata": {
        "id": "DEG6dHtuR4hu"
      }
    },
    {
      "cell_type": "code",
      "source": [
        "53/80"
      ],
      "metadata": {
        "colab": {
          "base_uri": "https://localhost:8080/"
        },
        "id": "mo5AqCUyPPgI",
        "outputId": "b484d85f-aeed-4c98-ffa4-8aca694d6288"
      },
      "execution_count": null,
      "outputs": [
        {
          "output_type": "execute_result",
          "data": {
            "text/plain": [
              "0.6625"
            ]
          },
          "metadata": {},
          "execution_count": 1
        }
      ]
    },
    {
      "cell_type": "markdown",
      "source": [
        "\\\n",
        "จบคณะ ข. และมีงานทำ:  \n",
        "หาค่า P(B ∩ J) ซึ่งจะมีค่าเท่ากับ P(B|J)*P(J)"
      ],
      "metadata": {
        "id": "traoodaaSWkF"
      }
    },
    {
      "cell_type": "code",
      "source": [
        "(13/53)*(53/80)"
      ],
      "metadata": {
        "colab": {
          "base_uri": "https://localhost:8080/"
        },
        "id": "jEaKkTQySZpw",
        "outputId": "25e0eaca-1db6-4b63-f500-37dd6df5e584"
      },
      "execution_count": null,
      "outputs": [
        {
          "output_type": "execute_result",
          "data": {
            "text/plain": [
              "0.1625"
            ]
          },
          "metadata": {},
          "execution_count": 3
        }
      ]
    },
    {
      "cell_type": "markdown",
      "source": [
        "\\\n",
        "จบคณะ ข. ถ้าทราบว่าเขามีงานทำ:  \n",
        "หาค่า P(B | J) "
      ],
      "metadata": {
        "id": "nr2h1OmFTA0p"
      }
    },
    {
      "cell_type": "code",
      "source": [
        "(13/53)"
      ],
      "metadata": {
        "colab": {
          "base_uri": "https://localhost:8080/"
        },
        "outputId": "25e0eaca-1db6-4b63-f500-37dd6df5e584",
        "id": "5RX9MY6tTA0p"
      },
      "execution_count": null,
      "outputs": [
        {
          "output_type": "execute_result",
          "data": {
            "text/plain": [
              "0.1625"
            ]
          },
          "metadata": {},
          "execution_count": 3
        }
      ]
    },
    {
      "cell_type": "markdown",
      "source": [
        "\\\n",
        "ว่างงาน ถ้าทราบว่าจบจากคณะ ก.:  \n",
        "หาค่า P(NJ | A) "
      ],
      "metadata": {
        "id": "KMbB1ZAGTUCP"
      }
    },
    {
      "cell_type": "code",
      "source": [
        "(20/60)"
      ],
      "metadata": {
        "colab": {
          "base_uri": "https://localhost:8080/"
        },
        "outputId": "25e0eaca-1db6-4b63-f500-37dd6df5e584",
        "id": "fn2d29-yTUCP"
      },
      "execution_count": null,
      "outputs": [
        {
          "output_type": "execute_result",
          "data": {
            "text/plain": [
              "0.1625"
            ]
          },
          "metadata": {},
          "execution_count": 3
        }
      ]
    },
    {
      "cell_type": "code",
      "source": [],
      "metadata": {
        "id": "43JriVOsSa1k"
      },
      "execution_count": null,
      "outputs": []
    },
    {
      "cell_type": "code",
      "source": [],
      "metadata": {
        "id": "dMfdWHH0Sapf"
      },
      "execution_count": null,
      "outputs": []
    },
    {
      "cell_type": "code",
      "source": [],
      "metadata": {
        "id": "IDenapPZSaQz"
      },
      "execution_count": null,
      "outputs": []
    },
    {
      "cell_type": "code",
      "source": [],
      "metadata": {
        "id": "qJ-5VUoRSaDU"
      },
      "execution_count": null,
      "outputs": []
    },
    {
      "cell_type": "markdown",
      "source": [
        "###  "
      ],
      "metadata": {
        "id": "Mu4lT_CApF2I"
      }
    }
  ]
}