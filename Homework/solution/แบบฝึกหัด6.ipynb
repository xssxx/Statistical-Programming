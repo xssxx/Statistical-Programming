{
  "nbformat": 4,
  "nbformat_minor": 0,
  "metadata": {
    "colab": {
      "provenance": []
    },
    "kernelspec": {
      "name": "python3",
      "display_name": "Python 3"
    },
    "language_info": {
      "name": "python"
    }
  },
  "cells": [
    {
      "cell_type": "markdown",
      "source": [
        "# แบบฝึกหัด 6"
      ],
      "metadata": {
        "id": "U3ArbMi8JHGD"
      }
    },
    {
      "cell_type": "markdown",
      "source": [
        "---"
      ],
      "metadata": {
        "id": "t9RQYuu-JUwP"
      }
    },
    {
      "cell_type": "code",
      "source": [
        "import numpy as np\n",
        "import pandas as pd\n",
        "from scipy import stats"
      ],
      "metadata": {
        "id": "5LcuhePsgM1w"
      },
      "execution_count": null,
      "outputs": []
    },
    {
      "cell_type": "markdown",
      "source": [
        "6.1 จากการสำรวจโดยหน่วยงานของรัฐ ความน่าจะเป็นที่คนไทยจะมีบัตรเครดิตอย่างน้อย 1 บัตรเท่ากับ 0.6 หากสุ่มตัวอย่างคนไทยจำนวน\n",
        "1000 คน จงประมาณความน่าจะเป็นที่คนไทยอย่างน้อย 615 คน จากที่ถูกเลือกเป็นตัวอย่าง จะมีบัตร\n",
        "เครดิตอย่างน้อย 1 บัตร ด้วยการแจกแจงแบบปกติ"
      ],
      "metadata": {
        "id": "ag3TNOoapF2I"
      }
    },
    {
      "cell_type": "code",
      "source": [
        "#แสดงวิธีทำ"
      ],
      "metadata": {
        "id": "eGMlvK2UXrtE"
      },
      "execution_count": null,
      "outputs": []
    },
    {
      "cell_type": "markdown",
      "source": [
        "*X* แทนจำนวนคนไทยที่ถูกเลือกเป็นตัวอย่างจะมีบัตร เครดิตอย่างน้อย 1 บัตร   \n",
        "*n* จำนวนคนไทยที่สุ่มมาทดสอบ *n*=1000   \n",
        "p  ความน่าจะเป็นที่คนไทยจะมีบัตรเครดิตอย่างน้อย 1 บัตร  p=0.6  \n",
        "  \n",
        "𝑋~𝑏(𝑥;𝑛=1000, p=0.6)"
      ],
      "metadata": {
        "id": "gB95GzFupjAq"
      }
    },
    {
      "cell_type": "code",
      "source": [
        "n=1000\n",
        "p=0.6\n",
        "q=1-p"
      ],
      "metadata": {
        "id": "tPD2jTbssMrQ"
      },
      "execution_count": null,
      "outputs": []
    },
    {
      "cell_type": "code",
      "source": [
        "#หาค่า n*p\n",
        "n*p"
      ],
      "metadata": {
        "colab": {
          "base_uri": "https://localhost:8080/"
        },
        "id": "kVaxEAUfr9M4",
        "outputId": "d845b1f3-172d-454c-b6a4-05a400d67159"
      },
      "execution_count": null,
      "outputs": [
        {
          "output_type": "execute_result",
          "data": {
            "text/plain": [
              "600.0"
            ]
          },
          "metadata": {},
          "execution_count": 4
        }
      ]
    },
    {
      "cell_type": "code",
      "source": [
        "#หาค่า n*q\n",
        "n*q"
      ],
      "metadata": {
        "colab": {
          "base_uri": "https://localhost:8080/"
        },
        "id": "tW2_7xKur8fx",
        "outputId": "744890c8-75a4-45aa-9ada-5feda606a529"
      },
      "execution_count": null,
      "outputs": [
        {
          "output_type": "execute_result",
          "data": {
            "text/plain": [
              "400.0"
            ]
          },
          "metadata": {},
          "execution_count": 5
        }
      ]
    },
    {
      "cell_type": "markdown",
      "source": [
        "𝑛p และ 𝑛q มากกว่า 5 ใช้การประมาณด้วยการแจกแจงแบบปกติได้  \n",
        "𝑌~𝑁(𝜇=𝑛p=600, 𝜎^2=𝑛pq=240)"
      ],
      "metadata": {
        "id": "v6ceFqKhsUWO"
      }
    },
    {
      "cell_type": "markdown",
      "source": [
        "ประมาณความน่าจะเป็นที่คนไทยอย่างน้อย 615 คน จากที่ถูกเลือกเป็นตัวอย่าง จะมีบัตร เครดิตอย่างน้อย 1 บัตร  \n",
        "คือหาค่า P(X≥615)  \n",
        "ที่ X≥615 คือ Y>614.5"
      ],
      "metadata": {
        "id": "qh6GtNxVs0-L"
      }
    },
    {
      "cell_type": "code",
      "source": [
        "#แปลง 614.5 เป็น Z และหาค่าความน่าจะเป็นที่คนไทยอย่างน้อย 615 คน จากที่ถูกเลือกเป็นตัวอย่าง จะมีบัตร เครดิตอย่างน้อย 1 บัตร\n",
        "stats.norm.sf((614.5-600)/np.sqrt(240))"
      ],
      "metadata": {
        "colab": {
          "base_uri": "https://localhost:8080/"
        },
        "id": "sjhb3TNZsrY2",
        "outputId": "16b73429-89f9-4fd5-dabc-314b08f20d14"
      },
      "execution_count": null,
      "outputs": [
        {
          "output_type": "execute_result",
          "data": {
            "text/plain": [
              "0.17464406593420118"
            ]
          },
          "metadata": {},
          "execution_count": 24
        }
      ]
    },
    {
      "cell_type": "markdown",
      "source": [
        "ความน่าจะเป็นที่คนไทยอย่างน้อย 615 คน จากที่ถูกเลือกเป็นตัวอย่าง จะมีบัตร เครดิตอย่างน้อย 1 บัตร คือ 0.175"
      ],
      "metadata": {
        "id": "UxpjHQn1xT2I"
      }
    },
    {
      "cell_type": "markdown",
      "source": [
        "###   \n"
      ],
      "metadata": {
        "id": "RIDQz3PGqqY9"
      }
    },
    {
      "cell_type": "markdown",
      "source": [
        "6.2 บริษัทแห่งหนึ่งสุ่มเครื่อง server มา 22 เครื่อง พบว่ามีค่าบำรุงรักษาเฉลี่ยเครื่องละ 10000 บาทต่อปี และมีส่วนเบี่ยงเบนมาตราฐานของค่าบำรุงรักษา 5000 บาทต่อปี \n",
        "หากการวางแผนงบประมาณจะอ้างอิงจากค่าบำรุงรักษาโดยเฉลี่ยของ server จากทั้งบริษัท จงหาความน่าจะเป็นที่ค่าบำรุงรักษา server โดยเฉลี่ยทั้งบริษัทจะมีค่าน้อยกว่า 12000 บาท  \n",
        "หากกำหนดให้การแจกแจงของค่าบำรุงรักษาจากกลุ่มตัวอย่างเป็นแบบที"
      ],
      "metadata": {
        "id": "AdbMJYLPTRNk"
      }
    },
    {
      "cell_type": "code",
      "source": [
        "#แสดงวิธีทำ"
      ],
      "metadata": {
        "id": "7FhHdEZbn2QB"
      },
      "execution_count": null,
      "outputs": []
    },
    {
      "cell_type": "markdown",
      "source": [
        "𝑛=22,  ∴ 𝑣=22−1=21  จำนวนตัวอย่าง 𝑛<30 ไม่ทราบ 𝜇 และ 𝜎 ใช้การแจกแจงแบบที  \n",
        "x̄=10000,  𝑠=5000  \n",
        "ต้องการหา  P(𝜇<12000)"
      ],
      "metadata": {
        "id": "UWhDSR3MTXLE"
      }
    },
    {
      "cell_type": "code",
      "source": [
        "#คำนวณคะแนนที\n",
        "t_cal = (10000-12000) / (5000 / np.sqrt(22))\n",
        "t_cal"
      ],
      "metadata": {
        "id": "Yj2g-867qvcY",
        "colab": {
          "base_uri": "https://localhost:8080/"
        },
        "outputId": "f6fc6be4-f0db-4777-84e9-5a47caafa317"
      },
      "execution_count": null,
      "outputs": [
        {
          "output_type": "execute_result",
          "data": {
            "text/plain": [
              "-1.876166303929372"
            ]
          },
          "metadata": {},
          "execution_count": 6
        }
      ]
    },
    {
      "cell_type": "markdown",
      "source": [
        "โจทย์ข้อนี้หาความน่าจะเป็นเมื่อ 𝜇<12000 ซึ่งหมายความว่าเมื่อ t> -1.876"
      ],
      "metadata": {
        "id": "sKFpFGGUUvVP"
      }
    },
    {
      "cell_type": "code",
      "source": [
        "#ความน่าจะเป็นที่ค่าบำรุงรักษา server โดยเฉลี่ยทั้งบริษัทจะมีค่าน้อยกว่า 12000 บาท\n",
        "stats.t.sf(-1.876, df=21)"
      ],
      "metadata": {
        "id": "LiBHRRXOqs94",
        "colab": {
          "base_uri": "https://localhost:8080/"
        },
        "outputId": "a8485d6b-1fbf-4a5e-8016-6cad8175db42"
      },
      "execution_count": null,
      "outputs": [
        {
          "output_type": "execute_result",
          "data": {
            "text/plain": [
              "0.9626874014857781"
            ]
          },
          "metadata": {},
          "execution_count": 7
        }
      ]
    },
    {
      "cell_type": "markdown",
      "source": [
        "ความน่าจะเป็นที่ค่าบำรุงรักษา server โดยเฉลี่ยทั้งบริษัทจะมีค่าน้อยกว่า 12000 บาทคือ 0.963"
      ],
      "metadata": {
        "id": "6lfRCSFbxjn1"
      }
    },
    {
      "cell_type": "markdown",
      "source": [
        "###   \n"
      ],
      "metadata": {
        "id": "eudS6wOyWTCb"
      }
    },
    {
      "cell_type": "markdown",
      "source": [
        "6.3 จากข้อ 6.2 จงหาช่วงของค่าบำรุงรักษาโดยเฉลี่ยของ server จากทั้งบริษัทที่ทำให้  \n",
        "P(-a < T < a) = 0.99  โดย a คำนวณจากค่าสถิติของตัวอย่าง server ในข้อ 6.2"
      ],
      "metadata": {
        "id": "BfdpCQDiWTCj"
      }
    },
    {
      "cell_type": "code",
      "source": [
        "#แสดงวิธีทำ"
      ],
      "metadata": {
        "id": "YEBo5Tr3n22g"
      },
      "execution_count": null,
      "outputs": []
    },
    {
      "cell_type": "markdown",
      "source": [
        "เนื่องจากการแจกแจงของค่าบำรุงรักษาจากกลุ่มตัวอย่างเป็นแบบที  \n",
        "P(-a < T < a) = 0.99 \n",
        "\n",
        "ดังนั้น  \n",
        "α = (1 - 0.99)/2"
      ],
      "metadata": {
        "id": "BKxpCPbeYkfX"
      }
    },
    {
      "cell_type": "code",
      "source": [
        "#หาค่า a\n",
        "a = stats.t.isf((1 - 0.99)/2, df=21)\n",
        "a"
      ],
      "metadata": {
        "colab": {
          "base_uri": "https://localhost:8080/"
        },
        "id": "psts0ADzYj6M",
        "outputId": "166fe696-6a6c-45ec-9b83-7f2904fcc792"
      },
      "execution_count": null,
      "outputs": [
        {
          "output_type": "execute_result",
          "data": {
            "text/plain": [
              "2.831359558017186"
            ]
          },
          "metadata": {},
          "execution_count": 14
        }
      ]
    },
    {
      "cell_type": "code",
      "source": [
        "a"
      ],
      "metadata": {
        "colab": {
          "base_uri": "https://localhost:8080/"
        },
        "id": "Ds5Quvi8hu_O",
        "outputId": "f8d5e8ad-1cd6-455e-b432-e29f1a4ed2c8"
      },
      "execution_count": null,
      "outputs": [
        {
          "output_type": "execute_result",
          "data": {
            "text/plain": [
              "2.831359558017186"
            ]
          },
          "metadata": {},
          "execution_count": 25
        }
      ]
    },
    {
      "cell_type": "code",
      "source": [
        "stats.t.ppf((1 - 0.99)/2, df=21)"
      ],
      "metadata": {
        "colab": {
          "base_uri": "https://localhost:8080/"
        },
        "id": "pfbE__UPhigm",
        "outputId": "ae702195-7981-4f3a-edfe-52001e864e43"
      },
      "execution_count": null,
      "outputs": [
        {
          "output_type": "execute_result",
          "data": {
            "text/plain": [
              "-2.831359558017186"
            ]
          },
          "metadata": {},
          "execution_count": 24
        }
      ]
    },
    {
      "cell_type": "markdown",
      "source": [
        "เมื่อทราบค่า a จะสามารถหาค่า 𝜇 ได้ จากสูตร a = ( x̄-𝜇 )/ (s/√𝑛)"
      ],
      "metadata": {
        "id": "8rsflgg_bwr1"
      }
    },
    {
      "cell_type": "code",
      "source": [
        "mu1 = 10000 - ((-a)*5000/np.sqrt(22))\n",
        "mu1"
      ],
      "metadata": {
        "id": "4UFgpbb-uxu_",
        "colab": {
          "base_uri": "https://localhost:8080/"
        },
        "outputId": "b7be1e0a-ee4c-4631-87f6-55b9b3a212d1"
      },
      "execution_count": null,
      "outputs": [
        {
          "output_type": "execute_result",
          "data": {
            "text/plain": [
              "13018.239430147843"
            ]
          },
          "metadata": {},
          "execution_count": 30
        }
      ]
    },
    {
      "cell_type": "code",
      "source": [
        "mu2 = 10000 - (a*5000/np.sqrt(22))\n",
        "mu2"
      ],
      "metadata": {
        "id": "uisV0jZjuxx_",
        "colab": {
          "base_uri": "https://localhost:8080/"
        },
        "outputId": "e23c6509-dc5d-433c-f7dc-37a510b16210"
      },
      "execution_count": null,
      "outputs": [
        {
          "output_type": "execute_result",
          "data": {
            "text/plain": [
              "6981.760569852157"
            ]
          },
          "metadata": {},
          "execution_count": 31
        }
      ]
    },
    {
      "cell_type": "markdown",
      "source": [
        "ช่วงของค่าบำรุงรักษาโดยเฉลี่ยของ server จากทั้งบริษัทที่ทำให้\n",
        "P(-a < T < a) = 0.99 คือ 13018.239 > 𝜇 > 6981.761"
      ],
      "metadata": {
        "id": "kaYOdsPklwQ9"
      }
    },
    {
      "cell_type": "code",
      "source": [],
      "metadata": {
        "id": "eiryqjQx8VIS"
      },
      "execution_count": null,
      "outputs": []
    }
  ]
}