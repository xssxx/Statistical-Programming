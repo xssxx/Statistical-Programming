{
  "nbformat": 4,
  "nbformat_minor": 0,
  "metadata": {
    "colab": {
      "provenance": []
    },
    "kernelspec": {
      "name": "python3",
      "display_name": "Python 3"
    },
    "language_info": {
      "name": "python"
    }
  },
  "cells": [
    {
      "cell_type": "markdown",
      "source": [
        "# แบบฝึกหัด 7"
      ],
      "metadata": {
        "id": "U3ArbMi8JHGD"
      }
    },
    {
      "cell_type": "markdown",
      "source": [
        "---"
      ],
      "metadata": {
        "id": "t9RQYuu-JUwP"
      }
    },
    {
      "cell_type": "code",
      "source": [
        "import numpy as np\n",
        "from scipy import stats\n",
        "from statsmodels.stats.weightstats import ztest"
      ],
      "metadata": {
        "id": "5LcuhePsgM1w"
      },
      "execution_count": null,
      "outputs": []
    },
    {
      "cell_type": "markdown",
      "source": [
        "7.1 จากการเก็บข้อมูลของบูธร้านค้าร้านหนึ่งในงานเกษตรแฟร์โดยสุ่มตัวอย่างลูกค้ามาทั้งหมด 200 คน พบว่ามีอายุเฉลี่ย 42.8 ปี ส่วนเบี่ยงเบนมาตราฐาน 6.89 ปี ผู้ประกอบการร้านแห่งนี้จึงตั้งสมมุติฐานว่า ลูกค้าของทางร้านมีอายุเฉลี่ยสูงกว่า 40 ปี ที่ระดับนัยสำคัญ 0.01 สมมุติฐานนี้ถูกต้องหรือไม่ หากกำหนดให้การแจกแจงของอายุเป็นแบบปกติ  "
      ],
      "metadata": {
        "id": "ag3TNOoapF2I"
      }
    },
    {
      "cell_type": "markdown",
      "source": [
        "ไม่ทราบความแปรปรวนของประชากร ตัวอย่างมีขนาดใหญ่ สถิติที่ใช้ทดสอบคือ Z  \n",
        "![image.png](data:image/png;base64,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)"
      ],
      "metadata": {
        "id": "j4sG2Vpo3gsO"
      }
    },
    {
      "cell_type": "markdown",
      "source": [
        "ให้ 𝜇 คือ อายุโดยเฉลี่ยของลูกค้าร้านแห่งหนึ่งที่ตั้งบูธขายของช่วงเกษตรแฟร์"
      ],
      "metadata": {
        "id": "VKeAS5NltE3z"
      }
    },
    {
      "cell_type": "markdown",
      "source": [
        "ตั้งสมมติฐาน:  \n",
        "H<sub>0</sub>:  𝜇≤40  \n",
        "H<sub>1</sub>:  𝜇>40   "
      ],
      "metadata": {
        "id": "KTuNMleS3wRO"
      }
    },
    {
      "cell_type": "code",
      "source": [
        "#คำนวณ Z_cal\n",
        "z_cal = (42.8-40) / (6.89/np.sqrt(200))\n",
        "z_cal"
      ],
      "metadata": {
        "colab": {
          "base_uri": "https://localhost:8080/"
        },
        "id": "B8DSUpaGzm2c",
        "outputId": "86bf5e8c-27cb-47cc-e3da-9f9a7f17ad3c"
      },
      "execution_count": null,
      "outputs": [
        {
          "output_type": "execute_result",
          "data": {
            "text/plain": [
              "5.747166871762936"
            ]
          },
          "metadata": {},
          "execution_count": 3
        }
      ]
    },
    {
      "cell_type": "code",
      "source": [
        "#คำนวณ Z_crit\n",
        "z_crit = stats.norm.isf(0.01)\n",
        "z_crit "
      ],
      "metadata": {
        "colab": {
          "base_uri": "https://localhost:8080/"
        },
        "id": "lwQ_2JfUzmzr",
        "outputId": "1603b8bf-2f50-4717-8000-8427dc5baf7c"
      },
      "execution_count": null,
      "outputs": [
        {
          "output_type": "execute_result",
          "data": {
            "text/plain": [
              "2.3263478740408408"
            ]
          },
          "metadata": {},
          "execution_count": 4
        }
      ]
    },
    {
      "cell_type": "markdown",
      "source": [
        "**z_cal อยู่ในบริเวณวิกฤต จึงปฏิเสธ H<sub>0</sub> และยอมรับ H<sub>1</sub> นั่นคือ  ลูกค้าของทางร้านแห่งนี้มีอายุเฉลี่ยสูงกว่า 40 ปี ที่ระดับนัยสำคัญ 0.01**"
      ],
      "metadata": {
        "id": "ZGl2T_rg6VeS"
      }
    },
    {
      "cell_type": "markdown",
      "source": [
        "\\\n",
        "หรือคำนวณค่า p-value"
      ],
      "metadata": {
        "id": "_ftaZeM_7Iw7"
      }
    },
    {
      "cell_type": "code",
      "source": [
        "p_val = stats.norm.sf(Z_cal)\n",
        "p_val"
      ],
      "metadata": {
        "colab": {
          "base_uri": "https://localhost:8080/"
        },
        "id": "V5PdICyUzmw0",
        "outputId": "6095816e-dc54-4b94-8bb9-559280962e74"
      },
      "execution_count": null,
      "outputs": [
        {
          "output_type": "execute_result",
          "data": {
            "text/plain": [
              "4.537557863298819e-09"
            ]
          },
          "metadata": {},
          "execution_count": 5
        }
      ]
    },
    {
      "cell_type": "markdown",
      "source": [
        "**ค่า p_val < 0.01 จึงปฏิเสธ H<sub>0</sub> และยอมรับ H<sub>1</sub> นั่นคือ  ลูกค้าของทางร้านแห่งนี้มีอายุเฉลี่ยสูงกว่า 40 ปี ที่ระดับนัยสำคัญ 0.01**"
      ],
      "metadata": {
        "id": "D0QVjLef7lSR"
      }
    },
    {
      "cell_type": "markdown",
      "source": [
        "###   "
      ],
      "metadata": {
        "id": "IzcoD0hL8AQB"
      }
    },
    {
      "cell_type": "markdown",
      "source": [
        "7.2 สุ่มตัวอย่างผลิตภัณฑ์ซักล้างยี่ห้อหนึ่งมาจำนวน 8 ชิ้นเพื่อวัดปริมาณสารพิษ พบว่าได้ปริมาณดังนี้ (10<sup>6</sup>ppm) 15, 8, 10, 13, 6, 16, 11, 18 จงทดสอบว่าปริมาณสารพิษของผลิตภัณฑ์ซักล้างยี่ห้อนี้มากกว่าหรือเท่ากับ (≥) 18x10<sup>6</sup>ppm ที่ระดับนัยสำคัญ 0.05 หรือไม่ หากกำหนดให้ปริมาณสารพิษชนิดนี้มีการแจกแจงแบบปกติ      "
      ],
      "metadata": {
        "id": "QIrBZzg28EEi"
      }
    },
    {
      "cell_type": "markdown",
      "source": [
        "ไม่ทราบความแปรปรวนของประชากร ตัวอย่างมีขนาดเล็ก สถิติที่ใช้ทดสอบคือ t  \n",
        "![image.png](data:image/png;base64,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)"
      ],
      "metadata": {
        "id": "S9FvQbjWDkDQ"
      }
    },
    {
      "cell_type": "markdown",
      "source": [
        "ให้ 𝜇 คือ ปริมาณสารพิษของผลิตภัณฑ์ซักล้างยี่ห้อหนึ่งโดยเฉลี่ย"
      ],
      "metadata": {
        "id": "aEoCo3g4s5bd"
      }
    },
    {
      "cell_type": "markdown",
      "source": [
        "ตั้งสมมติฐาน:  \n",
        "H<sub>0</sub>:  𝜇≥18  \n",
        "H<sub>1</sub>:  𝜇<18   "
      ],
      "metadata": {
        "id": "RI5GNJ9EEH59"
      }
    },
    {
      "cell_type": "code",
      "source": [
        "#หาค่า xbar, s\n",
        "toxics_quan = [15, 8, 10, 13, 6, 16, 11, 18]\n",
        "xbar = np.mean(toxics_quan) \n",
        "s = np.std(toxics_quan, ddof=1)\n",
        "print(xbar,s)"
      ],
      "metadata": {
        "colab": {
          "base_uri": "https://localhost:8080/"
        },
        "id": "L_4PVucozmt9",
        "outputId": "13bab681-94b5-451d-dc26-ff87db21f4f0"
      },
      "execution_count": null,
      "outputs": [
        {
          "output_type": "stream",
          "name": "stdout",
          "text": [
            "12.125 4.120939559996343\n"
          ]
        }
      ]
    },
    {
      "cell_type": "code",
      "source": [
        "#คำนวณ t_cal\n",
        "t_cal = (xbar-18) / (s/np.sqrt(8))\n",
        "t_cal"
      ],
      "metadata": {
        "colab": {
          "base_uri": "https://localhost:8080/"
        },
        "id": "aQDqR843zmq8",
        "outputId": "569fd8ef-cd31-4a73-a9d5-ecefc108cd83"
      },
      "execution_count": null,
      "outputs": [
        {
          "output_type": "execute_result",
          "data": {
            "text/plain": [
              "-4.032335130364934"
            ]
          },
          "metadata": {},
          "execution_count": 7
        }
      ]
    },
    {
      "cell_type": "code",
      "source": [
        "#คำนวณ t_crit\n",
        "t_crit = stats.t.ppf(0.05, df=7)\n",
        "t_crit"
      ],
      "metadata": {
        "colab": {
          "base_uri": "https://localhost:8080/"
        },
        "id": "l7Wj3Tv7zmoF",
        "outputId": "e1f04c98-1256-45f6-c514-5942e44371dc"
      },
      "execution_count": null,
      "outputs": [
        {
          "output_type": "execute_result",
          "data": {
            "text/plain": [
              "-1.8945786050613054"
            ]
          },
          "metadata": {},
          "execution_count": 8
        }
      ]
    },
    {
      "cell_type": "markdown",
      "source": [
        "**t_cal อยู่ในบริเวณวิกฤต จึงปฏิเสธ H<sub>0</sub> และยอมรับ H<sub>1</sub> นั่นคือ  ปริมาณสารพิษของผลิตภัณฑ์ซักล้างยี่ห้อนี้น้อยกว่า 18x10<sup>6</sup>ppm ที่ระดับนัยสำคัญ 0.05**"
      ],
      "metadata": {
        "id": "vpW6kSQYWDzw"
      }
    },
    {
      "cell_type": "markdown",
      "source": [
        "\\\n",
        "หรือคำนวณค่า p-value"
      ],
      "metadata": {
        "id": "WdH59GlJWXbo"
      }
    },
    {
      "cell_type": "code",
      "source": [
        "p_val = stats.t.cdf(t_cal, df=7)\n",
        "p_val"
      ],
      "metadata": {
        "colab": {
          "base_uri": "https://localhost:8080/"
        },
        "outputId": "84f0b5b5-4cf9-42de-81f8-b20908eca701",
        "id": "0-dbIHsRWXbp"
      },
      "execution_count": null,
      "outputs": [
        {
          "output_type": "execute_result",
          "data": {
            "text/plain": [
              "0.0024905124764684917"
            ]
          },
          "metadata": {},
          "execution_count": 10
        }
      ]
    },
    {
      "cell_type": "markdown",
      "source": [
        "**p-value < 0.05 จึงปฏิเสธ H<sub>0</sub> และยอมรับ H<sub>1</sub> นั่นคือ  ปริมาณสารพิษของผลิตภัณฑ์ซักล้างยี่ห้อนี้น้อยกว่า 18x10<sup>6</sup>ppm ที่ระดับนัยสำคัญ 0.05**"
      ],
      "metadata": {
        "id": "s325m8fgW0GF"
      }
    },
    {
      "cell_type": "markdown",
      "source": [
        "\\\n",
        "หรือหาค่า p-value โดยใช้ stats.ttest_1samp:"
      ],
      "metadata": {
        "id": "4QMb534EXNbP"
      }
    },
    {
      "cell_type": "code",
      "source": [
        "t_cal, p_value  = stats.ttest_1samp(a=toxics_quan,\n",
        "                                    popmean=18,\n",
        "                                    alternative='less')\n",
        "print(t_cal, p_value)"
      ],
      "metadata": {
        "colab": {
          "base_uri": "https://localhost:8080/"
        },
        "id": "ZCniQdNvXL_Z",
        "outputId": "8d90c28a-ba8a-489f-aba9-bef20047e464"
      },
      "execution_count": null,
      "outputs": [
        {
          "output_type": "stream",
          "name": "stdout",
          "text": [
            "-4.032335130364934 0.0024905124764684917\n"
          ]
        }
      ]
    },
    {
      "cell_type": "markdown",
      "source": [
        "###   "
      ],
      "metadata": {
        "id": "NfuOc0DEX-mV"
      }
    },
    {
      "cell_type": "markdown",
      "source": [
        "7.3 ทำการ ping 158.108.216.5 จำนวน 10 ครั้ง ได้ระยะเวลาในหน่วย ms (milliseconds) ดังนี้ 28.2, 26.5, 30.7, 24.1, 25.3, 29.2, 21.6, 26.7, 23.4, 27.3 จงทดสอบว่าระยะเวลาที่ใช้ในการ ping โดยเฉลี่ยมีค่าเท่ากับ 26 ms หรือไม่ที่ระดับนัยสำคัญ 0.05 หากทราบมาว่าระยะเวลาที่ใช้ในการ ping มีการแจกแจงแบบปกติ"
      ],
      "metadata": {
        "id": "LRa6VC8dX-mc"
      }
    },
    {
      "cell_type": "markdown",
      "source": [
        "ไม่ทราบความแปรปรวนของประชากร ตัวอย่างมีขนาดเล็ก สถิติที่ใช้ทดสอบคือ t  \n",
        "![image.png](data:image/png;base64,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)"
      ],
      "metadata": {
        "id": "_3bzFEfFc_1N"
      }
    },
    {
      "cell_type": "markdown",
      "source": [
        "ให้ 𝜇 คือ ระยะเวลาที่ใช้ในการ ping 158.108.216.5 โดยเฉลี่ย"
      ],
      "metadata": {
        "id": "faVZKJ2JstT2"
      }
    },
    {
      "cell_type": "markdown",
      "source": [
        "ตั้งสมมติฐาน:  \n",
        "H<sub>0</sub>:  𝜇=26  \n",
        "H<sub>1</sub>:  𝜇≠26   "
      ],
      "metadata": {
        "id": "vZxCLAV5c_1P"
      }
    },
    {
      "cell_type": "code",
      "source": [
        "ping = [28.2, 26.5, 30.7, 24.1, 25.3, 29.2, 21.6, 26.7, 23.4, 27.3]\n",
        "t_cal, p_value  = stats.ttest_1samp(a=ping,\n",
        "                                    popmean=26,\n",
        "                                    alternative='two-sided')\n",
        "print(t_cal, p_value)"
      ],
      "metadata": {
        "colab": {
          "base_uri": "https://localhost:8080/"
        },
        "id": "kwX1874wzmlO",
        "outputId": "0e02ad96-8b9d-43cf-b1bf-d33c1ddde15c"
      },
      "execution_count": null,
      "outputs": [
        {
          "output_type": "stream",
          "name": "stdout",
          "text": [
            "0.3428229400069507 0.7396027657579756\n"
          ]
        }
      ]
    },
    {
      "cell_type": "markdown",
      "source": [
        "**p-value > 0.05 จึงยอมรับ H<sub>0</sub>  นั่นคือ  ระยะเวลาที่ใช้ในการ ping โดยเฉลี่ยมีค่าเท่ากับ 26 ms ที่ระดับนัยสำคัญ 0.05**"
      ],
      "metadata": {
        "id": "kbdsxrBveD6x"
      }
    },
    {
      "cell_type": "code",
      "source": [
        "#หากต้องการทราบ t_crit\n",
        "t_crit_left = stats.t.ppf(0.05/2, df=9)\n",
        "t_crit_right = stats.t.isf(0.05/2, df=9)\n",
        "print(t_crit_left, t_crit_right)"
      ],
      "metadata": {
        "colab": {
          "base_uri": "https://localhost:8080/"
        },
        "id": "3_VOO3BfzmiU",
        "outputId": "fb3aa54c-431e-490e-8907-8c442e8ff8d0"
      },
      "execution_count": null,
      "outputs": [
        {
          "output_type": "stream",
          "name": "stdout",
          "text": [
            "-2.262157162740992 2.262157162740992\n"
          ]
        }
      ]
    },
    {
      "cell_type": "markdown",
      "source": [
        "###   "
      ],
      "metadata": {
        "id": "2L30gP1ae_Du"
      }
    },
    {
      "cell_type": "markdown",
      "source": [
        "7.4 ห้องปฏิบัติการ 2 แห่ง สุ่มตรวจสอบปริมาณนิโคตินในบุหรี่ยี่ห้อหนึ่งด้ผลการวิเคราะห์ปริมาณนิโคติน (มิลลิกรัม) ดังนี้  \n",
        "ห้องปฏิบัติการ1: 56, 37, 61, 56, 65, 41, 63, 50, 42   \n",
        "ห้องปฏิบัติการ2: 46, 25, 46, 64, 34, 56   \n",
        "จงทดสอบสมมติฐานว่าปริมาณนิโคตินที่วิเคราะห์ได้โดยห้องปฏิบัติการสองแห่งนี้ไม่แตกต่างกัน\n",
        "ที่ระดับนัยสำคัญ 0.10 หากกำหนดให้ปริมาณนิโคตินในบุหรี่ที่วิเคราะห์ได้โดยห้องปฏิบัติการทั้งสองมีการ\n",
        "แจกแจงแบบปกติที่มีค่าความแปรปรวนเท่ากัน  "
      ],
      "metadata": {
        "id": "jb1NBlWke_D2"
      }
    },
    {
      "cell_type": "markdown",
      "source": [
        "ไม่ทราบความแปรปรวนของประชากร ตัวอย่างมีขนาดเล็ก แต่ทราบว่าความแปรปรวนเท่ากัน สถิติทดสอบคือ t  \n",
        "![image.png](data:image/png;base64,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)"
      ],
      "metadata": {
        "id": "N71zobjwgv7r"
      }
    },
    {
      "cell_type": "markdown",
      "source": [
        "ให้ 𝜇<sub>1</sub> คือ ปริมาณนิโคตินในบุหรี่ยี่ห้อหนึ่งที่วัดได้จากห้องปฏิบัติการ1  \n",
        "𝜇<sub>2</sub> คือ ปริมาณนิโคตินในบุหรี่ยี่ห้อหนึ่งที่วัดได้จากห้องปฏิบัติการ2"
      ],
      "metadata": {
        "id": "ityTbqXisaHF"
      }
    },
    {
      "cell_type": "markdown",
      "source": [
        "ตั้งสมมติฐาน:  \n",
        "H<sub>0</sub>:  𝜇<sub>1</sub>-𝜇<sub>2</sub>=0  \n",
        "H<sub>1</sub>:  𝜇<sub>1</sub>-𝜇<sub>2</sub>≠0   "
      ],
      "metadata": {
        "id": "xwIfhHD2heZ8"
      }
    },
    {
      "cell_type": "code",
      "source": [
        "lab1 = [56, 37, 61, 56, 65, 41, 63, 50, 42]\n",
        "lab2 = [46, 25, 46, 64, 34, 56]\n",
        "stats.ttest_ind(a=lab1,\n",
        "                b=lab2,\n",
        "                alternative='two-sided',\n",
        "                equal_var=True)"
      ],
      "metadata": {
        "colab": {
          "base_uri": "https://localhost:8080/"
        },
        "id": "5q_1n0Pnzmfs",
        "outputId": "46686c2c-27cd-41e5-d8a0-947b58b2e7be"
      },
      "execution_count": null,
      "outputs": [
        {
          "output_type": "execute_result",
          "data": {
            "text/plain": [
              "Ttest_indResult(statistic=1.1377678816988284, pvalue=0.2757530487532558)"
            ]
          },
          "metadata": {},
          "execution_count": 17
        }
      ]
    },
    {
      "cell_type": "markdown",
      "source": [
        "**p-value > 0.10 จึงยอมรับ H<sub>0</sub>  นั่นคือปริมาณนิโคตินที่วิเคราะห์ได้โดยห้องปฏิบัติการสองแห่งนี้ไม่แตกต่างกัน ที่ระดับนัยสำคัญ 0.10**"
      ],
      "metadata": {
        "id": "KkIiBEtDiZw6"
      }
    },
    {
      "cell_type": "code",
      "source": [
        "#หากต้องการทราบ t_crit\n",
        "t_crit_left = stats.t.ppf(0.1/2, df=len(lab1)+len(lab2)-2)\n",
        "t_crit_right = stats.t.isf(0.1/2, df=len(lab1)+len(lab2)-2)\n",
        "print(t_crit_left, t_crit_right)"
      ],
      "metadata": {
        "colab": {
          "base_uri": "https://localhost:8080/"
        },
        "outputId": "44312da0-0026-4877-a25f-5b3752e3270b",
        "id": "jFQH1xQ4itzq"
      },
      "execution_count": null,
      "outputs": [
        {
          "output_type": "stream",
          "name": "stdout",
          "text": [
            "-1.7709333959867992 1.7709333959867992\n"
          ]
        }
      ]
    },
    {
      "cell_type": "markdown",
      "source": [
        "###   "
      ],
      "metadata": {
        "id": "HV7pSFLVjP8J"
      }
    },
    {
      "cell_type": "markdown",
      "source": [
        "7.5 เครื่องใช้พลาสติกชนิดหนึ่ง ผลิตโดยกระบวนการผลิตแตกต่างกัน 2 วิธี คือ A และ B ต้องการตรวจสอบความ\n",
        "เหนียวของพลาสติกที่ผลิตได้โดยทั้งสองกระบวนการนี้ว่าแตกต่างกันหรือไม่ จึงสุ่มตัวอย่าง\n",
        "ผลิตภัณฑ์จากกระบวนการผลิต A มา 30 ชิ้น ทดสอบและคำนวณค่าความเหนียวเฉลี่ยได้เป็น\n",
        "28.3 ส่วนเบี่ยงเบนมาตรฐาน 3.3 เมื่อสุ่มผลิตภัณฑ์จากกระบวนการผลิต B 40 ชิ้น คำนวณค่าความเหนียวเฉลี่ยได้เป็น 26.7 ส่วนเบี่ยงเบนมาตรฐานเป็น 4.9 หากการทดสอบโดยใช้ระดับนัยสำคัญ 0.05  "
      ],
      "metadata": {
        "id": "9IshON3wjP8J"
      }
    },
    {
      "cell_type": "markdown",
      "source": [
        "ไม่ทราบความแปรปรวนของประชากร และตัวอย่างมีขนาดใหญ่ ใช้ Z ในการทดสอบ  \n",
        "![image.png](data:image/png;base64,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)"
      ],
      "metadata": {
        "id": "nVhiI4Iipewm"
      }
    },
    {
      "cell_type": "markdown",
      "source": [
        "ให้ 𝜇<sub>1</sub> คือ ค่าความเหนียวเฉลี่ยของพลาสติกที่ผลิตโดยกระบวนการผลิต A  \n",
        "𝜇<sub>2</sub> คือ ค่าความเหนียวเฉลี่ยของพลาสติกที่ผลิตโดยกระบวนการผลิต B"
      ],
      "metadata": {
        "id": "PX-Me8aQp5k3"
      }
    },
    {
      "cell_type": "markdown",
      "source": [
        "ตั้งสมมติฐาน:  \n",
        "H<sub>0</sub>:  𝜇<sub>1</sub>-𝜇<sub>2</sub>=0  \n",
        "H<sub>1</sub>:  𝜇<sub>1</sub>-𝜇<sub>2</sub>≠0   "
      ],
      "metadata": {
        "id": "DETgvKXMp4Y7"
      }
    },
    {
      "cell_type": "code",
      "source": [
        "#คำนวณ z_cal\n",
        "z_cal = ((28.3-26.7)-0)/np.sqrt(3.3**2/30 + 4.9**2/40)\n",
        "z_cal"
      ],
      "metadata": {
        "colab": {
          "base_uri": "https://localhost:8080/"
        },
        "id": "zKdpz2nqiYit",
        "outputId": "1fc3dbbe-ec84-46ca-c3d2-8fd5a51a57e7"
      },
      "execution_count": null,
      "outputs": [
        {
          "output_type": "execute_result",
          "data": {
            "text/plain": [
              "1.6302359794089838"
            ]
          },
          "metadata": {},
          "execution_count": 19
        }
      ]
    },
    {
      "cell_type": "code",
      "source": [
        "#คำนวณ z_crit\n",
        "z_crit_left = stats.norm.ppf(0.05/2)\n",
        "z_crit_right = stats.norm.isf(0.05/2)\n",
        "print(z_crit_left, z_crit_right)"
      ],
      "metadata": {
        "colab": {
          "base_uri": "https://localhost:8080/"
        },
        "id": "unCcDF5JiMp8",
        "outputId": "d7a66215-772a-44cc-8a4d-b19fd22e6c38"
      },
      "execution_count": null,
      "outputs": [
        {
          "output_type": "stream",
          "name": "stdout",
          "text": [
            "-1.9599639845400545 1.9599639845400545\n"
          ]
        }
      ]
    },
    {
      "cell_type": "code",
      "source": [
        "#คำนวณ p-value\n",
        "p_val = 2*stats.norm.sf(abs(z_cal))\n",
        "p_val"
      ],
      "metadata": {
        "colab": {
          "base_uri": "https://localhost:8080/"
        },
        "id": "nu2QzHkTq8r7",
        "outputId": "44fd4d9b-f207-4d8d-a5b6-2f85902a852e"
      },
      "execution_count": null,
      "outputs": [
        {
          "output_type": "execute_result",
          "data": {
            "text/plain": [
              "0.10305163240311598"
            ]
          },
          "metadata": {},
          "execution_count": 22
        }
      ]
    },
    {
      "cell_type": "markdown",
      "source": [
        "**z_cal ตกในบริเวณยอมรับ H<sub>0</sub> และ p-val>0.05 จึงต้องยอมรับ H<sub>0</sub> คือความ เหนียวของพลาสติกที่ผลิตได้โดยทั้งสองกระบวนการนี้ไม่แตกต่างกัน**"
      ],
      "metadata": {
        "id": "Jus39c1er1cY"
      }
    },
    {
      "cell_type": "code",
      "source": [],
      "metadata": {
        "id": "mAF78YVLq8pD"
      },
      "execution_count": null,
      "outputs": []
    },
    {
      "cell_type": "code",
      "source": [],
      "metadata": {
        "id": "dgVZajclq8mU"
      },
      "execution_count": null,
      "outputs": []
    },
    {
      "cell_type": "code",
      "source": [],
      "metadata": {
        "id": "FbmtNZ0hq8ji"
      },
      "execution_count": null,
      "outputs": []
    },
    {
      "cell_type": "code",
      "source": [],
      "metadata": {
        "id": "svB8YaXAq8gw"
      },
      "execution_count": null,
      "outputs": []
    },
    {
      "cell_type": "code",
      "source": [],
      "metadata": {
        "id": "OhVMhR1Bq8Yb"
      },
      "execution_count": null,
      "outputs": []
    }
  ]
}