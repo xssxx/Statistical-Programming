{
  "nbformat": 4,
  "nbformat_minor": 0,
  "metadata": {
    "colab": {
      "provenance": []
    },
    "kernelspec": {
      "name": "python3",
      "display_name": "Python 3"
    },
    "language_info": {
      "name": "python"
    }
  },
  "cells": [
    {
      "cell_type": "markdown",
      "source": [
        "# แบบฝึกหัด 5"
      ],
      "metadata": {
        "id": "U3ArbMi8JHGD"
      }
    },
    {
      "cell_type": "markdown",
      "source": [
        "---"
      ],
      "metadata": {
        "id": "t9RQYuu-JUwP"
      }
    },
    {
      "cell_type": "code",
      "source": [
        "import numpy as np\n",
        "import pandas as pd\n",
        "from scipy import stats\n",
        "import statistics\n",
        "from math import perm, comb"
      ],
      "metadata": {
        "id": "5LcuhePsgM1w"
      },
      "execution_count": null,
      "outputs": []
    },
    {
      "cell_type": "markdown",
      "source": [
        "###  "
      ],
      "metadata": {
        "id": "uoKssbJRv2Xu"
      }
    },
    {
      "cell_type": "markdown",
      "source": [
        "5.1 จากการวิจัยพบว่า 10% ของผู้สูบบุหรี่มากกว่า 2 มวนต่อวันจะพบความผิดปกติของปอด หากทำการสุ่มตัวอย่างผู้ที่สูบบุหรี่มากกว่า 2 มวนต่อวันจำนวน 10 คน จงหาความน่าจะเป็นของกรณีดังต่อไปนี้  \n",
        "- พบผู้ที่มีความผิดปกติของปอด 3 คน  \n",
        "ตัวแปรสุ่มเป็นการแจกแจงแบบทวินาม สนใจผู้ที่ปอดมีความผิดปกติ X~b(x; n=10, p=0.1)"
      ],
      "metadata": {
        "id": "ag3TNOoapF2I"
      }
    },
    {
      "cell_type": "code",
      "source": [
        "stats.binom.pmf(k=3, p=0.1, n=10)"
      ],
      "metadata": {
        "colab": {
          "base_uri": "https://localhost:8080/"
        },
        "id": "2fDZ4MWZU_c4",
        "outputId": "e6ca71fb-0a3c-407d-9386-8997473e3803"
      },
      "execution_count": null,
      "outputs": [
        {
          "output_type": "execute_result",
          "data": {
            "text/plain": [
              "0.05739562799999998"
            ]
          },
          "metadata": {},
          "execution_count": 3
        }
      ]
    },
    {
      "cell_type": "markdown",
      "source": [
        "- ไม่มีผู้ที่ปอดมีความผิดปกติเลย"
      ],
      "metadata": {
        "id": "SOtKXJZ0Yhby"
      }
    },
    {
      "cell_type": "code",
      "source": [
        "stats.binom.pmf(k=0, p=0.1, n=10)"
      ],
      "metadata": {
        "colab": {
          "base_uri": "https://localhost:8080/"
        },
        "id": "l0s0U9a6U_aK",
        "outputId": "2b164c73-0b6d-4b69-9559-0635547f3954"
      },
      "execution_count": null,
      "outputs": [
        {
          "output_type": "execute_result",
          "data": {
            "text/plain": [
              "0.3486784401000001"
            ]
          },
          "metadata": {},
          "execution_count": 4
        }
      ]
    },
    {
      "cell_type": "markdown",
      "source": [
        "- พบผู้ที่มีความผิดปกติของปอดอย่างน้อย 1 คน"
      ],
      "metadata": {
        "id": "gvjrsGthYycb"
      }
    },
    {
      "cell_type": "code",
      "source": [
        "sum([stats.binom.pmf(k=i, p=0.1, n=10) for i in range(1,11)])"
      ],
      "metadata": {
        "colab": {
          "base_uri": "https://localhost:8080/"
        },
        "outputId": "998d9e40-1927-4b17-fc42-94da2b28aeba",
        "id": "Ua1K70wHYycb"
      },
      "execution_count": null,
      "outputs": [
        {
          "output_type": "execute_result",
          "data": {
            "text/plain": [
              "0.6513215598999996"
            ]
          },
          "metadata": {},
          "execution_count": 5
        }
      ]
    },
    {
      "cell_type": "code",
      "source": [
        "#หรือ\n",
        "1-stats.binom.pmf(k=0, p=0.1, n=10)"
      ],
      "metadata": {
        "colab": {
          "base_uri": "https://localhost:8080/"
        },
        "id": "w3iY2Wm1U_XA",
        "outputId": "ffc6781d-4417-45ea-c2bd-a5f8ad29760f"
      },
      "execution_count": null,
      "outputs": [
        {
          "output_type": "execute_result",
          "data": {
            "text/plain": [
              "0.6513215599"
            ]
          },
          "metadata": {},
          "execution_count": 6
        }
      ]
    },
    {
      "cell_type": "markdown",
      "source": [
        "###  "
      ],
      "metadata": {
        "id": "sbZ2sthm9YOB"
      }
    },
    {
      "cell_type": "markdown",
      "source": [
        "5.2 ในพื้นที่สัมปทานเหมืองแร่ทองคำแห่งหนี่ง พบว่าในการออกพื้นที่สำรวจจะมีโอกาสพบสายแร่ทองคำ 15% หากบริษัท A ได้กำหนดพื้นที่เพื่อทำการสำรวจทั้งหมด 12 จุด จงหาความน่าจะเป็นของเหตุการณ์ต่อไปนี้ \n",
        "- พบสายแร่ทองคำทั้ง 12 จุด    \n",
        "ตัวแปรสุ่มเป็นการแจกแจงแบบทวินาม สนใจการพบสายแร่ทองคำ X~b(x; n=12, p=0.15)"
      ],
      "metadata": {
        "id": "t7i3BrqK9YOB"
      }
    },
    {
      "cell_type": "code",
      "source": [
        "stats.binom.pmf(k=12, n=12, p=0.15)"
      ],
      "metadata": {
        "colab": {
          "base_uri": "https://localhost:8080/"
        },
        "id": "ytny9IN59Sf5",
        "outputId": "fefa47e0-a62b-4c78-e3aa-7ad4080ca6db"
      },
      "execution_count": null,
      "outputs": [
        {
          "output_type": "execute_result",
          "data": {
            "text/plain": [
              "1.2974633789062494e-10"
            ]
          },
          "metadata": {},
          "execution_count": 2
        }
      ]
    },
    {
      "cell_type": "markdown",
      "source": [
        "- ไม่พบสายแร่ทองคำทั้ง 12 จุด"
      ],
      "metadata": {
        "id": "H4G_eeDQ9TSd"
      }
    },
    {
      "cell_type": "code",
      "source": [
        "stats.binom.pmf(k=0, n=12, p=0.15)"
      ],
      "metadata": {
        "colab": {
          "base_uri": "https://localhost:8080/"
        },
        "id": "V-a0fDMhU_Uh",
        "outputId": "4d01e4b3-5966-4a9d-eaf0-7669fc18a274"
      },
      "execution_count": null,
      "outputs": [
        {
          "output_type": "execute_result",
          "data": {
            "text/plain": [
              "0.14224175713617207"
            ]
          },
          "metadata": {},
          "execution_count": 3
        }
      ]
    },
    {
      "cell_type": "markdown",
      "source": [
        "- พบสายแร่ทองคำ 1 จุดเท่านั้น"
      ],
      "metadata": {
        "id": "hcYW6v-qAJDw"
      }
    },
    {
      "cell_type": "code",
      "source": [
        "stats.binom.pmf(k=1, n=12, p=0.15)"
      ],
      "metadata": {
        "colab": {
          "base_uri": "https://localhost:8080/"
        },
        "id": "tRL0--C8U_Q6",
        "outputId": "dc7ea4c5-ae26-430d-ec8b-c1a933a8b8f3"
      },
      "execution_count": null,
      "outputs": [
        {
          "output_type": "execute_result",
          "data": {
            "text/plain": [
              "0.30121783864130575"
            ]
          },
          "metadata": {},
          "execution_count": 4
        }
      ]
    },
    {
      "cell_type": "markdown",
      "source": [
        "- พบสายแร่ทองคำอย่างน้อย 3 จุด"
      ],
      "metadata": {
        "id": "tjBxzS5IAezo"
      }
    },
    {
      "cell_type": "code",
      "source": [
        "sum([stats.binom.pmf(k=i, n=12, p=0.15) for i in range(3,13)])"
      ],
      "metadata": {
        "colab": {
          "base_uri": "https://localhost:8080/"
        },
        "id": "R-DEsoLUU_Nw",
        "outputId": "e5bd0825-20c0-4868-e420-317b108d8ece"
      },
      "execution_count": null,
      "outputs": [
        {
          "output_type": "execute_result",
          "data": {
            "text/plain": [
              "0.264181913776549"
            ]
          },
          "metadata": {},
          "execution_count": 7
        }
      ]
    },
    {
      "cell_type": "markdown",
      "source": [
        "###  "
      ],
      "metadata": {
        "id": "yif8FzhRBNSq"
      }
    },
    {
      "cell_type": "markdown",
      "source": [
        "5.3 จากการเก็บข้อมูลการเล่นเกมส์ออนไลน์เกมส์หนึ่งพบว่า ผู้เล่นที่มีเลเวล 50 ขึ้นไป 10 คน จะมีผู้เล่นที่ซื้อแพ็กเกจ VIP จำนวน 3 คนโดยประมาณ หากสุ่มตัวอย่างผู้เล่นที่มีเลเวล 50 ขึ้นไปจำนวน 15 คน จงหาค่าความน่าจะเป็นของเหตุการณ์ต่อไปนี้  \n",
        "  \n",
        "- มีผู้เล่นอย่างน้อย 1 คนซื้อแพ็กเกจ VIP    \n",
        "ตัวแปรสุ่มเป็นการแจกแจงแบบทวินาม สนจำนวนผู้เล่นซื้อแพ็กเกจ VIP X~b(x; n=15, p=0.3)"
      ],
      "metadata": {
        "id": "FgWhB3I9BNSq"
      }
    },
    {
      "cell_type": "code",
      "source": [
        "sum([stats.binom.pmf(k=i, n=15, p=0.3) for i in range(1,16)])"
      ],
      "metadata": {
        "colab": {
          "base_uri": "https://localhost:8080/"
        },
        "id": "sYHSnFQCU_Ho",
        "outputId": "7ed7d379-1a39-40f5-e2db-f9d6b541fe8f"
      },
      "execution_count": null,
      "outputs": [
        {
          "output_type": "execute_result",
          "data": {
            "text/plain": [
              "0.9952524384900563"
            ]
          },
          "metadata": {},
          "execution_count": 9
        }
      ]
    },
    {
      "cell_type": "markdown",
      "source": [
        "- ไม่มีผู้เล่นซื้อแพ็กเกจ VIP เลย"
      ],
      "metadata": {
        "id": "WhCBSP4mGDDk"
      }
    },
    {
      "cell_type": "code",
      "source": [
        "stats.binom.pmf(k=0, n=15, p=0.3)"
      ],
      "metadata": {
        "colab": {
          "base_uri": "https://localhost:8080/"
        },
        "id": "0DlTxx2mU_Ea",
        "outputId": "e655c94e-dbd7-4aac-b673-3b5c24b8fd19"
      },
      "execution_count": null,
      "outputs": [
        {
          "output_type": "execute_result",
          "data": {
            "text/plain": [
              "0.004747561509942996"
            ]
          },
          "metadata": {},
          "execution_count": 10
        }
      ]
    },
    {
      "cell_type": "markdown",
      "source": [
        "- มีผู้เล่นน้อยกว่า 4 คนซื้อแพ็กเกจ VIP"
      ],
      "metadata": {
        "id": "KDo2aR-0GewE"
      }
    },
    {
      "cell_type": "code",
      "source": [
        "sum([stats.binom.pmf(k=i, n=15, p=0.3) for i in range(4)])"
      ],
      "metadata": {
        "colab": {
          "base_uri": "https://localhost:8080/"
        },
        "id": "5jcQs--9U_BR",
        "outputId": "d32b7be2-eddb-4c23-f3cb-6a33ae4ad0ff"
      },
      "execution_count": null,
      "outputs": [
        {
          "output_type": "execute_result",
          "data": {
            "text/plain": [
              "0.29686792788704786"
            ]
          },
          "metadata": {},
          "execution_count": 16
        }
      ]
    },
    {
      "cell_type": "markdown",
      "source": [
        "###  "
      ],
      "metadata": {
        "id": "nwSlXUPSHkQL"
      }
    },
    {
      "cell_type": "markdown",
      "source": [
        "5.4 จำนวนอุบัติเหตุอันเนื่องมาจากการจราจรที่สี่แยกแห่งหนึ่งโดยเฉลี่ยมี 3 รายต่อสัปดาห์ จงหาความ\n",
        "น่าจะเป็นที่จะมีอุบัติเหตุ 5 รายที่แยกแห่งนี้ในสัปดาห์หนึ่ง        \n",
        "ตัวแปรสุ่มเป็นการแจกแจงแบบปัวซง ช่วงระยะเวลา 1 สัปดาห์ 𝜆=3  \n",
        "X~Pois(x; 𝜆=3)"
      ],
      "metadata": {
        "id": "v04rtFN2HkQL"
      }
    },
    {
      "cell_type": "code",
      "source": [
        "stats.poisson.pmf(mu=3, k=5)"
      ],
      "metadata": {
        "colab": {
          "base_uri": "https://localhost:8080/"
        },
        "id": "1T4AEx-3U-7K",
        "outputId": "5f84c77c-120d-47c1-e0bc-1dc6da00c6e8"
      },
      "execution_count": null,
      "outputs": [
        {
          "output_type": "execute_result",
          "data": {
            "text/plain": [
              "0.10081881344492458"
            ]
          },
          "metadata": {},
          "execution_count": 18
        }
      ]
    },
    {
      "cell_type": "markdown",
      "source": [
        "###  "
      ],
      "metadata": {
        "id": "LeBrVUJUKdo9"
      }
    },
    {
      "cell_type": "markdown",
      "source": [
        "5.5 จากการเก็บข้อมูลพบว่า server ของทางภาควิชาฯ จะถูกโจมตีจากผู้ไม่หวังดีโดยเฉลี่ย 6 ครั้งใน 1 วันจงหาความน่าจะเป็นที่ใน 1 วัน server ของทางภาควิชาฯ จะถูกโจมตี 6 - 8 ครั้ง        \n",
        "ตัวแปรสุ่มเป็นการแจกแจงแบบปัวซง ช่วงระยะเวลา 1 วัน 𝜆=6  \n",
        "X~Pois(x; 𝜆=6)"
      ],
      "metadata": {
        "id": "LoAlPE5XKdo9"
      }
    },
    {
      "cell_type": "code",
      "source": [
        "sum([stats.poisson.pmf(mu=6, k=i) for i in range(6,9)])"
      ],
      "metadata": {
        "colab": {
          "base_uri": "https://localhost:8080/"
        },
        "id": "Svss9qlOU-4L",
        "outputId": "ab0bd5fa-66c0-436f-904d-4e480bfa2326"
      },
      "execution_count": null,
      "outputs": [
        {
          "output_type": "execute_result",
          "data": {
            "text/plain": [
              "0.40155785261995003"
            ]
          },
          "metadata": {},
          "execution_count": 21
        }
      ]
    },
    {
      "cell_type": "markdown",
      "source": [
        "###  "
      ],
      "metadata": {
        "id": "r_ZjNP1PL2uu"
      }
    },
    {
      "cell_type": "markdown",
      "source": [
        "5.6 จากการเก็บข้อมูลอายุของเด็กที่ติดเกมส์มือถือพบว่ามีการแจกแจงของอายุเป็นแบบปกติ และมีค่าเฉลี่ยเท่ากับ 11.5 ปี\n",
        "และค่าเบี่ยงเบนมาตรฐานเท่ากับ 3 ปี   \n",
        "หากพบเด็กคนหนึ่งติดเกมส์ จงหาความน่าจะเป็นที่เด็กผู้นี้  \n",
        "- มีอายุอยู่ระหว่าง 8.5 และ 14.5 ปี  \n",
        "ตัวแปรสุ่มเป็นการแจกแจงแบบปกติ โดยมี 𝜇=11.5, 𝜎=3  \n",
        "∴  𝑋~𝑁(11.5, 3<sup>2</sup>)  "
      ],
      "metadata": {
        "id": "STASxmjEL2uu"
      }
    },
    {
      "cell_type": "code",
      "source": [
        "mu = 11.5\n",
        "sigma = 3\n",
        "stats.norm.cdf(x=(14.5-mu)/sigma)-stats.norm.cdf(x=(8.5-mu)/sigma)"
      ],
      "metadata": {
        "colab": {
          "base_uri": "https://localhost:8080/"
        },
        "id": "3megto8nU-1H",
        "outputId": "aef180ca-e3a9-4790-97af-f565fd1d5cdd"
      },
      "execution_count": null,
      "outputs": [
        {
          "output_type": "execute_result",
          "data": {
            "text/plain": [
              "0.6826894921370859"
            ]
          },
          "metadata": {},
          "execution_count": 23
        }
      ]
    },
    {
      "cell_type": "markdown",
      "source": [
        "- มีอายุต่ำกว่า 12 ปี"
      ],
      "metadata": {
        "id": "7S4XGGO5P4tI"
      }
    },
    {
      "cell_type": "code",
      "source": [
        "stats.norm.cdf(x=(12-mu)/sigma)"
      ],
      "metadata": {
        "colab": {
          "base_uri": "https://localhost:8080/"
        },
        "id": "f2bqpLOkU-yQ",
        "outputId": "2014455b-d179-4c80-cf9e-423f14951ae2"
      },
      "execution_count": null,
      "outputs": [
        {
          "output_type": "execute_result",
          "data": {
            "text/plain": [
              "0.5661838326109037"
            ]
          },
          "metadata": {},
          "execution_count": 26
        }
      ]
    },
    {
      "cell_type": "markdown",
      "source": [
        "- มีอายุเกินกว่า 10 ปีขึ้นไป"
      ],
      "metadata": {
        "id": "2g0qLDviQY8b"
      }
    },
    {
      "cell_type": "code",
      "source": [
        "1- stats.norm.cdf(x=(10-mu)/sigma)"
      ],
      "metadata": {
        "colab": {
          "base_uri": "https://localhost:8080/"
        },
        "id": "1XEsiJ-WU-vJ",
        "outputId": "a56364da-44a9-4bf8-cc38-443001c084f0"
      },
      "execution_count": null,
      "outputs": [
        {
          "output_type": "execute_result",
          "data": {
            "text/plain": [
              "0.6914624612740131"
            ]
          },
          "metadata": {},
          "execution_count": 27
        }
      ]
    },
    {
      "cell_type": "code",
      "source": [
        "#หรือ\n",
        "stats.norm.sf(x=(10-mu)/sigma)"
      ],
      "metadata": {
        "colab": {
          "base_uri": "https://localhost:8080/"
        },
        "id": "30z5Te7UU-sR",
        "outputId": "992f5f78-86c5-48ba-cee6-470a77ff4aae"
      },
      "execution_count": null,
      "outputs": [
        {
          "output_type": "execute_result",
          "data": {
            "text/plain": [
              "0.6914624612740131"
            ]
          },
          "metadata": {},
          "execution_count": 28
        }
      ]
    },
    {
      "cell_type": "markdown",
      "source": [
        "###  "
      ],
      "metadata": {
        "id": "floehrzxQp4u"
      }
    },
    {
      "cell_type": "markdown",
      "source": [
        "5.7 ถ้าระดับค่าคลอเรสเตอรอลในประชากรกลุ่มหนึ่งมีการแจกแจงแบบปกติ มีค่าเฉลี่ยเท่ากับ 200 mg/\n",
        "100 ml และค่าเบี่ยงเบนมาตรฐานเท่ากับ 20 mg/100 ml จงหาความน่าจะเป็นที่จะเลือกได้บุคคลหนึ่ง\n",
        "จากประชากรกลุ่มนี้ แล้วพบว่าระดับคอเรสเตอรอลมีค่า  \n",
        "- ระหว่าง 180 และ 200 mg/100 ml  \n",
        " \n",
        "ตัวแปรสุ่มเป็นการแจกแจงแบบปกติ โดยมี 𝜇=200, 𝜎=20  \n",
        "∴  𝑋~𝑁(200, 20<sup>2</sup>)  "
      ],
      "metadata": {
        "id": "xMohIA7jQp4u"
      }
    },
    {
      "cell_type": "code",
      "source": [
        "mu = 200\n",
        "sigma = 20\n",
        "stats.norm.cdf(x=(200-mu)/sigma)-stats.norm.cdf(x=(180-mu)/sigma)"
      ],
      "metadata": {
        "colab": {
          "base_uri": "https://localhost:8080/"
        },
        "id": "qDisALt1U-pT",
        "outputId": "16a04351-0d6e-4926-804b-21d745a19d0c"
      },
      "execution_count": null,
      "outputs": [
        {
          "output_type": "execute_result",
          "data": {
            "text/plain": [
              "0.3413447460685429"
            ]
          },
          "metadata": {},
          "execution_count": 29
        }
      ]
    },
    {
      "cell_type": "markdown",
      "source": [
        "- เกินกว่า 225 mg/100 ml "
      ],
      "metadata": {
        "id": "VrDTcamkTDlO"
      }
    },
    {
      "cell_type": "code",
      "source": [
        "1-stats.norm.cdf(x=(225-mu)/sigma)"
      ],
      "metadata": {
        "colab": {
          "base_uri": "https://localhost:8080/"
        },
        "id": "We5BD6nJU-mg",
        "outputId": "f0b7bf2d-9ba5-4a3d-d63f-3e66cf5be07d"
      },
      "execution_count": null,
      "outputs": [
        {
          "output_type": "execute_result",
          "data": {
            "text/plain": [
              "0.10564977366685535"
            ]
          },
          "metadata": {},
          "execution_count": 30
        }
      ]
    },
    {
      "cell_type": "code",
      "source": [
        "#หรือ\n",
        "stats.norm.sf(x=(225-mu)/sigma)"
      ],
      "metadata": {
        "colab": {
          "base_uri": "https://localhost:8080/"
        },
        "id": "98gdKxPfTrK8",
        "outputId": "b233ef09-39c9-485c-c088-7fd19d11eb9c"
      },
      "execution_count": null,
      "outputs": [
        {
          "output_type": "execute_result",
          "data": {
            "text/plain": [
              "0.10564977366685535"
            ]
          },
          "metadata": {},
          "execution_count": 34
        }
      ]
    },
    {
      "cell_type": "markdown",
      "source": [
        "- ระหว่าง 190 และ 210 mg/100 ml"
      ],
      "metadata": {
        "id": "wnACIhNsTEdT"
      }
    },
    {
      "cell_type": "code",
      "source": [
        "stats.norm.cdf(x=(210-mu)/sigma)-stats.norm.cdf(x=(190-mu)/sigma)"
      ],
      "metadata": {
        "colab": {
          "base_uri": "https://localhost:8080/"
        },
        "id": "uFHb4w3dU-jg",
        "outputId": "2ebc69a6-fa66-4669-ba0c-7375dd9369b9"
      },
      "execution_count": null,
      "outputs": [
        {
          "output_type": "execute_result",
          "data": {
            "text/plain": [
              "0.38292492254802624"
            ]
          },
          "metadata": {},
          "execution_count": 31
        }
      ]
    },
    {
      "cell_type": "markdown",
      "source": [
        "- น้อยกว่า 150 mg/100 ml"
      ],
      "metadata": {
        "id": "00fXCreGTFAM"
      }
    },
    {
      "cell_type": "code",
      "source": [
        "stats.norm.cdf(x=(150-mu)/sigma)"
      ],
      "metadata": {
        "colab": {
          "base_uri": "https://localhost:8080/"
        },
        "id": "6tc0hE49U-gY",
        "outputId": "ea49a9bc-b74d-43b1-84a5-5a9c748cf279"
      },
      "execution_count": null,
      "outputs": [
        {
          "output_type": "execute_result",
          "data": {
            "text/plain": [
              "0.006209665325776132"
            ]
          },
          "metadata": {},
          "execution_count": 33
        }
      ]
    },
    {
      "cell_type": "markdown",
      "source": [
        "###  "
      ],
      "metadata": {
        "id": "Mu4lT_CApF2I"
      }
    }
  ]
}